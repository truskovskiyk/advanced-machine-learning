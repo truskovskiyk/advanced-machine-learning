{
 "cells": [
  {
   "cell_type": "markdown",
   "metadata": {},
   "source": [
    "# REINFORCE in TensorFlow\n",
    "\n",
    "This notebook implements a basic reinforce algorithm a.k.a. policy gradient for CartPole env.\n",
    "\n",
    "It has been deliberately written to be as simple and human-readable.\n"
   ]
  },
  {
   "cell_type": "markdown",
   "metadata": {},
   "source": [
    "The notebook assumes that you have [openai gym](https://github.com/openai/gym) installed.\n",
    "\n",
    "In case you're running on a server, [use xvfb](https://github.com/openai/gym#rendering-on-a-server)"
   ]
  },
  {
   "cell_type": "code",
   "execution_count": 1,
   "metadata": {},
   "outputs": [
    {
     "name": "stdout",
     "output_type": "stream",
     "text": [
      "\u001b[33mWARN: gym.spaces.Box autodetected dtype as <class 'numpy.float32'>. Please provide explicit dtype.\u001b[0m\n"
     ]
    },
    {
     "data": {
      "text/plain": [
<<<<<<< HEAD
       "<matplotlib.image.AxesImage at 0x114579588>"
=======
       "<matplotlib.image.AxesImage at 0x11446be10>"
>>>>>>> origin/master
      ]
     },
     "execution_count": 1,
     "metadata": {},
     "output_type": "execute_result"
    },
    {
     "data": {
<<<<<<< HEAD
      "image/png": "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\n",
=======
      "image/png": "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\n",
>>>>>>> origin/master
      "text/plain": [
       "<Figure size 432x288 with 1 Axes>"
      ]
     },
     "metadata": {},
     "output_type": "display_data"
    }
   ],
   "source": [
    "import gym\n",
    "import numpy as np, pandas as pd\n",
    "import matplotlib.pyplot as plt\n",
    "%matplotlib inline\n",
    "\n",
    "env = gym.make(\"CartPole-v0\")\n",
    "\n",
    "#gym compatibility: unwrap TimeLimit\n",
    "if hasattr(env,'env'):\n",
    "    env=env.env\n",
    "\n",
    "env.reset()\n",
    "n_actions = env.action_space.n\n",
    "state_dim = env.observation_space.shape\n",
    "\n",
    "plt.imshow(env.render(\"rgb_array\"))"
   ]
  },
  {
   "cell_type": "code",
   "execution_count": 2,
   "metadata": {},
   "outputs": [
    {
     "data": {
      "text/plain": [
       "(4,)"
      ]
     },
     "execution_count": 2,
     "metadata": {},
     "output_type": "execute_result"
    }
   ],
   "source": [
    "state_dim"
   ]
  },
  {
   "cell_type": "markdown",
   "metadata": {},
   "source": [
    "# Building the policy network"
   ]
  },
  {
   "cell_type": "markdown",
   "metadata": {},
   "source": [
    "For REINFORCE algorithm, we'll need a model that predicts action probabilities given states.\n",
    "\n",
    "For numerical stability, please __do not include the softmax layer into your network architecture__. \n",
    "\n",
    "We'll use softmax or log-softmax where appropriate."
   ]
  },
  {
   "cell_type": "code",
<<<<<<< HEAD
   "execution_count": 3,
=======
   "execution_count": 2,
>>>>>>> origin/master
   "metadata": {},
   "outputs": [],
   "source": [
    "import tensorflow as tf\n",
    "\n",
    "#create input variables. We only need <s,a,R> for REINFORCE\n",
    "states = tf.placeholder('float32',(None,)+state_dim,name=\"states\")\n",
    "actions = tf.placeholder('int32',name=\"action_ids\")\n",
    "cumulative_rewards = tf.placeholder('float32', name=\"cumulative_returns\")"
   ]
  },
  {
   "cell_type": "code",
<<<<<<< HEAD
   "execution_count": 4,
   "metadata": {},
   "outputs": [
    {
     "name": "stderr",
     "output_type": "stream",
     "text": [
      "Using TensorFlow backend.\n"
=======
   "execution_count": 3,
   "metadata": {},
   "outputs": [
    {
     "ename": "SyntaxError",
     "evalue": "invalid syntax (<ipython-input-3-a503c9b4918d>, line 2)",
     "output_type": "error",
     "traceback": [
      "\u001b[0;36m  File \u001b[0;32m\"<ipython-input-3-a503c9b4918d>\"\u001b[0;36m, line \u001b[0;32m2\u001b[0m\n\u001b[0;31m    <define network graph using raw tf or any deep learning library>\u001b[0m\n\u001b[0m    ^\u001b[0m\n\u001b[0;31mSyntaxError\u001b[0m\u001b[0;31m:\u001b[0m invalid syntax\n"
>>>>>>> origin/master
     ]
    }
   ],
   "source": [
    "import keras\n",
    "import keras.layers as L\n",
    "\n",
    "# <define network graph using raw tf or any deep learning library>\n",
    "network = keras.models.Sequential()\n",
    "network.add(L.InputLayer(state_dim))\n",
    "network.add(L.Dense(100, activation='tanh'))\n",
    "network.add(L.Dense(n_actions))\n",
    "\n",
    "logits = network(states)\n",
    "\n",
    "policy = tf.nn.softmax(logits)\n",
    "log_policy = tf.nn.log_softmax(logits)"
   ]
  },
  {
   "cell_type": "code",
   "execution_count": 5,
   "metadata": {},
   "outputs": [],
   "source": [
    "#utility function to pick action in one given state\n",
    "get_action_proba = lambda s: policy.eval({states:[s]})[0] "
   ]
  },
  {
   "cell_type": "markdown",
   "metadata": {},
   "source": [
    "#### Loss function and updates\n",
    "\n",
    "We now need to define objective and update over policy gradient.\n",
    "\n",
    "Our objective function is\n",
    "\n",
    "$$ J \\approx  { 1 \\over N } \\sum  _{s_i,a_i} \\pi_\\theta (a_i | s_i) \\cdot G(s_i,a_i) $$\n",
    "\n",
    "\n",
    "Following the REINFORCE algorithm, we can define our objective as follows: \n",
    "\n",
    "$$ \\hat J \\approx { 1 \\over N } \\sum  _{s_i,a_i} log \\pi_\\theta (a_i | s_i) \\cdot G(s_i,a_i) $$\n",
    "\n",
    "When you compute gradient of that function over network weights $ \\theta $, it will become exactly the policy gradient.\n"
   ]
  },
  {
   "cell_type": "code",
   "execution_count": 6,
   "metadata": {},
   "outputs": [],
   "source": [
    "#get probabilities for parti\n",
    "indices = tf.stack([tf.range(tf.shape(log_policy)[0]),actions],axis=-1)\n",
    "log_policy_for_actions = tf.gather_nd(log_policy,indices)"
   ]
  },
  {
   "cell_type": "code",
   "execution_count": 7,
   "metadata": {},
   "outputs": [],
   "source": [
    "# policy objective as in the last formula. please use mean, not sum.\n",
    "# note: you need to use log_policy_for_actions to get log probabilities for actions taken\n",
    "\n",
    "# J = <YOUR CODE\n",
    "J = tf.reduce_mean(log_policy_for_actions * cumulative_rewards)\n"
   ]
  },
  {
   "cell_type": "code",
   "execution_count": 8,
   "metadata": {},
   "outputs": [],
   "source": [
    "#regularize with entropy\n",
    "# entropy = <compute entropy. Don't forget the sign!>\n",
    "entropy = - tf.reduce_sum(tf.multiply(policy, log_policy), axis=1)\n"
   ]
  },
  {
   "cell_type": "code",
   "execution_count": 9,
   "metadata": {},
   "outputs": [],
   "source": [
    "#all network weights\n",
    "# all_weights = <a list of all trainable weights in your network>\n",
    "all_weights = tf.get_collection(tf.GraphKeys.TRAINABLE_VARIABLES)\n",
    "\n",
    "#weight updates. maximizing J is same as minimizing -J. Adding negative entropy.\n",
    "loss = -J -0.1 * entropy\n",
    "\n",
    "update = tf.train.AdamOptimizer().minimize(loss,var_list=all_weights)"
   ]
  },
  {
   "cell_type": "markdown",
   "metadata": {},
   "source": [
    "### Computing cumulative rewards"
   ]
  },
  {
   "cell_type": "code",
   "execution_count": 10,
   "metadata": {},
   "outputs": [],
   "source": [
    "def get_cumulative_rewards(rewards, #rewards at each step\n",
    "                           gamma = 0.99 #discount for reward\n",
    "                           ):\n",
    "    \"\"\"\n",
    "    take a list of immediate rewards r(s,a) for the whole session \n",
    "    compute cumulative rewards R(s,a) (a.k.a. G(s,a) in Sutton '16)\n",
    "    R_t = r_t + gamma*r_{t+1} + gamma^2*r_{t+2} + ...\n",
    "    \n",
    "    The simple way to compute cumulative rewards is to iterate from last to first time tick\n",
    "    and compute R_t = r_t + gamma*R_{t+1} recurrently\n",
    "    \n",
    "    You must return an array/list of cumulative rewards with as many elements as in the initial rewards.\n",
    "    \"\"\"\n",
    "    n = len(rewards)\n",
    "    cumulative_rewards = np.zeros(n, dtype=np.float)\n",
    "    cumulative_rewards[-1] = rewards[-1]\n",
    "    for t in reversed(range(n - 1)):\n",
    "        cumulative_rewards[t] = rewards[t] + gamma * cumulative_rewards[t + 1]\n",
    "    return cumulative_rewards"
   ]
  },
  {
   "cell_type": "code",
   "execution_count": 11,
   "metadata": {},
   "outputs": [
    {
     "name": "stdout",
     "output_type": "stream",
     "text": [
      "looks good!\n"
     ]
    }
   ],
   "source": [
    "assert len(get_cumulative_rewards(range(100))) == 100\n",
    "assert np.allclose(get_cumulative_rewards([0,0,1,0,0,1,0],gamma=0.9),[1.40049, 1.5561, 1.729, 0.81, 0.9, 1.0, 0.0])\n",
    "assert np.allclose(get_cumulative_rewards([0,0,1,-2,3,-4,0],gamma=0.5), [0.0625, 0.125, 0.25, -1.5, 1.0, -4.0, 0.0])\n",
    "assert np.allclose(get_cumulative_rewards([0,0,1,2,3,4,0],gamma=0), [0, 0, 1, 2, 3, 4, 0])\n",
    "print(\"looks good!\")"
   ]
  },
  {
   "cell_type": "code",
   "execution_count": 12,
   "metadata": {},
   "outputs": [],
   "source": [
    "def train_step(_states,_actions,_rewards):\n",
    "    \"\"\"given full session, trains agent with policy gradient\"\"\"\n",
    "    _cumulative_rewards = get_cumulative_rewards(_rewards)\n",
    "    update.run({states:_states,actions:_actions,cumulative_rewards:_cumulative_rewards})"
   ]
  },
  {
   "cell_type": "code",
   "execution_count": 13,
   "metadata": {},
   "outputs": [
    {
     "data": {
      "text/plain": [
       "0"
      ]
     },
     "execution_count": 13,
     "metadata": {},
     "output_type": "execute_result"
    }
   ],
   "source": [
    "# a = np.random.sample(actions)\n",
    "env.action_space.contains(1)\n",
    "np.random.choice(np.arange(2), p=[0.5, 0.5])\n"
   ]
  },
  {
   "cell_type": "markdown",
   "metadata": {},
   "source": [
    "### Playing the game"
   ]
  },
  {
   "cell_type": "code",
   "execution_count": 14,
   "metadata": {},
   "outputs": [],
   "source": [
    "def generate_session(t_max=1000):\n",
    "    \"\"\"play env with REINFORCE agent and train at the session end\"\"\"\n",
    "    \n",
    "    #arrays to record session\n",
    "    states,actions,rewards = [],[],[]\n",
    "    \n",
    "    s = env.reset()\n",
    "    \n",
    "    for t in range(t_max):\n",
    "        \n",
    "        #action probabilities array aka pi(a|s)\n",
    "        action_probas = get_action_proba(s)\n",
    "        a = np.random.choice(np.arange(n_actions), p=action_probas)\n",
    "        # a = <pick random action using action_probas>\n",
    "        \n",
    "        new_s,r,done,info = env.step(a)\n",
    "        \n",
    "        #record session history to train later\n",
    "        states.append(s)\n",
    "        actions.append(a)\n",
    "        rewards.append(r)\n",
    "        \n",
    "        s = new_s\n",
    "        if done: break\n",
    "            \n",
    "    train_step(states,actions,rewards)\n",
    "            \n",
    "    return sum(rewards)\n",
    "        "
   ]
  },
  {
   "cell_type": "code",
   "execution_count": 15,
   "metadata": {},
   "outputs": [
    {
     "name": "stdout",
     "output_type": "stream",
     "text": [
      "mean reward:32.170\n",
      "mean reward:74.830\n",
      "mean reward:220.840\n",
      "mean reward:417.070\n",
      "You Win!\n"
     ]
    }
   ],
   "source": [
    "s = tf.InteractiveSession()\n",
    "s.run(tf.global_variables_initializer())\n",
    "\n",
    "for i in range(100):\n",
    "    \n",
    "    rewards = [generate_session() for _ in range(100)] #generate new sessions\n",
    "    \n",
    "    print (\"mean reward:%.3f\"%(np.mean(rewards)))\n",
    "\n",
    "    if np.mean(rewards) > 300:\n",
    "        print (\"You Win!\")\n",
    "        break\n",
    "        \n"
   ]
  },
  {
   "cell_type": "markdown",
   "metadata": {},
   "source": [
    "### Results & video"
   ]
  },
  {
   "cell_type": "code",
   "execution_count": 16,
   "metadata": {},
   "outputs": [
    {
     "name": "stdout",
     "output_type": "stream",
     "text": [
      "\u001b[33mWARN: gym.spaces.Box autodetected dtype as <class 'numpy.float32'>. Please provide explicit dtype.\u001b[0m\n"
     ]
    }
   ],
   "source": [
    "#record sessions\n",
    "import gym.wrappers\n",
    "env = gym.wrappers.Monitor(gym.make(\"CartPole-v0\"),directory=\"videos\",force=True)\n",
    "sessions = [generate_session() for _ in range(100)]\n",
    "env.close()\n"
   ]
  },
  {
   "cell_type": "code",
   "execution_count": 17,
   "metadata": {},
   "outputs": [
    {
     "data": {
      "text/html": [
       "\n",
       "<video width=\"640\" height=\"480\" controls>\n",
       "  <source src=\"./videos/openaigym.video.0.61496.video000064.mp4\" type=\"video/mp4\">\n",
       "</video>\n"
      ],
      "text/plain": [
       "<IPython.core.display.HTML object>"
      ]
     },
     "execution_count": 17,
     "metadata": {},
     "output_type": "execute_result"
    }
   ],
   "source": [
    "#show video\n",
    "from IPython.display import HTML\n",
    "import os\n",
    "\n",
    "video_names = list(filter(lambda s:s.endswith(\".mp4\"),os.listdir(\"./videos/\")))\n",
    "\n",
    "HTML(\"\"\"\n",
    "<video width=\"640\" height=\"480\" controls>\n",
    "  <source src=\"{}\" type=\"video/mp4\">\n",
    "</video>\n",
    "\"\"\".format(\"./videos/\"+video_names[-1])) #this may or may not be _last_ video. Try other indices"
   ]
  },
  {
   "cell_type": "code",
   "execution_count": null,
   "metadata": {},
   "outputs": [],
   "source": [
    "from submit import submit_cartpole\n",
    "submit_cartpole(generate_session, \"truskovskiyk@gmail.com\", \"token\")"
   ]
  },
  {
   "cell_type": "code",
   "execution_count": null,
   "metadata": {},
   "outputs": [],
   "source": [
    "# That's all, thank you for your attention!\n",
    "# Not having enough? There's an actor-critic waiting for you in the honor section.\n",
    "# But make sure you've seen the videos first."
   ]
  }
 ],
 "metadata": {
  "kernelspec": {
   "display_name": "Python 3",
   "language": "python",
   "name": "python3"
  },
  "language_info": {
   "codemirror_mode": {
    "name": "ipython",
    "version": 3
   },
   "file_extension": ".py",
   "mimetype": "text/x-python",
   "name": "python",
   "nbconvert_exporter": "python",
   "pygments_lexer": "ipython3",
   "version": "3.6.1"
  }
 },
 "nbformat": 4,
 "nbformat_minor": 1
}
